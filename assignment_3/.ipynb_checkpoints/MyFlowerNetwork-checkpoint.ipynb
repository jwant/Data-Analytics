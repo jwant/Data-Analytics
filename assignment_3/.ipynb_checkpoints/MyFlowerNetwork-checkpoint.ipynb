{
 "cells": [
  {
   "cell_type": "code",
   "execution_count": 0,
   "metadata": {
    "colab": {},
    "colab_type": "code",
    "id": "oHZ8alBH6VSr"
   },
   "outputs": [],
   "source": [
    "from sklearn.datasets import load_iris\n",
    "from sklearn.model_selection import train_test_split\n",
    "iris = load_iris()\n",
    "X_train, X_val, y_train, y_val = train_test_split(iris.data, iris.target)"
   ]
  },
  {
   "cell_type": "code",
   "execution_count": 7,
   "metadata": {
    "colab": {
     "base_uri": "https://localhost:8080/",
     "height": 90
    },
    "colab_type": "code",
    "id": "m_sRO_ci7Fhh",
    "outputId": "f7da97b8-4f12-4506-e636-2881db63b80c"
   },
   "outputs": [
    {
     "name": "stdout",
     "output_type": "stream",
     "text": [
      "Accuracy of the trained MLP is 0.974\n"
     ]
    },
    {
     "name": "stderr",
     "output_type": "stream",
     "text": [
      "/usr/local/lib/python3.6/dist-packages/sklearn/neural_network/_multilayer_perceptron.py:571: ConvergenceWarning: Stochastic Optimizer: Maximum iterations (200) reached and the optimization hasn't converged yet.\n",
      "  % self.max_iter, ConvergenceWarning)\n"
     ]
    }
   ],
   "source": [
    "from sklearn.neural_network import MLPClassifier\n",
    "mlp = MLPClassifier()\n",
    "mlp.fit(X_train, y_train)\n",
    "accu = (mlp.predict(X_val) == y_val).sum() / len(y_val)\n",
    "print(f\"Accuracy of the trained MLP is {accu:.3f}\")"
   ]
  },
  {
   "cell_type": "code",
   "execution_count": 0,
   "metadata": {
    "colab": {},
    "colab_type": "code",
    "id": "XWdtQ3VU74Lj"
   },
   "outputs": [],
   "source": [
    "import torch\n",
    "import torch.nn as nn\n",
    "import torch.nn.functional as fn\n",
    "from torch.optim import Adam\n",
    "\n",
    "X_train_t, X_val_t, y_train_t, y_val_t = \\\n",
    "    torch.Tensor(X_train), torch.Tensor(X_val), \\\n",
    "    torch.LongTensor(y_train), torch.Tensor(y_val)\n",
    "\n",
    "\n",
    "\n",
    "\n"
   ]
  },
  {
   "cell_type": "code",
   "execution_count": 0,
   "metadata": {
    "colab": {},
    "colab_type": "code",
    "id": "WJ5B1OGI8g6t"
   },
   "outputs": [],
   "source": [
    "class MyFlowerNet(nn.Module):\n",
    "    def __init__(self):\n",
    "        super(MyFlowerNet, self).__init__()\n",
    "        self.layer1 = nn.Linear(4, 10)\n",
    "        self.layer2 = nn.Linear(10, 3)\n",
    "\n",
    "    def forward(self, X):\n",
    "        h = fn.relu(self.layer1(X))\n",
    "        py = fn.log_softmax(self.layer2(h), dim=1)\n",
    "        return py\n"
   ]
  },
  {
   "cell_type": "code",
   "execution_count": 0,
   "metadata": {
    "colab": {},
    "colab_type": "code",
    "id": "CRDzY3bV9oEm"
   },
   "outputs": [],
   "source": [
    "net = MyFlowerNet()\n",
    "optim = Adam(net.parameters(), lr=0.01)\n",
    "\n",
    "iters = 0\n",
    "while True:\n",
    "    optim.zero_grad()\n",
    "    loss = fn.nll_loss(net(X_train_t), y_train_t)\n",
    "    loss.backward()\n",
    "    optim.step()\n",
    "    print(f\"Iteration {iters}, Loss:{loss:.3f}\")\n",
    "\n",
    "    iters += 1\n",
    "    if iters > 100:\n",
    "        break\n",
    "\n",
    "\n"
   ]
  },
  {
   "cell_type": "code",
   "execution_count": 0,
   "metadata": {
    "colab": {},
    "colab_type": "code",
    "id": "YOVhZ0Qu_Ca5"
   },
   "outputs": [],
   "source": [
    "with torch.no_grad():\n",
    "    corr = (torch.argmax(net(X_val_t), dim=1) == y_val_t).sum()"
   ]
  },
  {
   "cell_type": "code",
   "execution_count": 25,
   "metadata": {
    "colab": {
     "base_uri": "https://localhost:8080/",
     "height": 34
    },
    "colab_type": "code",
    "id": "ToTzq8Pw_bY3",
    "outputId": "dab933b1-4a18-4586-9970-2cb8311e3641"
   },
   "outputs": [
    {
     "name": "stdout",
     "output_type": "stream",
     "text": [
      "0.9736842105263158\n"
     ]
    }
   ],
   "source": [
    "print(corr.item() / len(y_val))"
   ]
  }
 ],
 "metadata": {
  "colab": {
   "name": "MyFlowerNetwork.ipynb",
   "provenance": []
  },
  "kernelspec": {
   "display_name": "Python 3",
   "language": "python",
   "name": "python3"
  },
  "language_info": {
   "codemirror_mode": {
    "name": "ipython",
    "version": 3
   },
   "file_extension": ".py",
   "mimetype": "text/x-python",
   "name": "python",
   "nbconvert_exporter": "python",
   "pygments_lexer": "ipython3",
   "version": "3.7.6"
  }
 },
 "nbformat": 4,
 "nbformat_minor": 1
}
