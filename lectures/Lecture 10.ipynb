{
 "cells": [
  {
   "cell_type": "code",
   "execution_count": 1,
   "metadata": {},
   "outputs": [],
   "source": [
    "# Import Relevant Outliers for the Work Required\n",
    "import sklearn.preprocessing as prep\n",
    "from sklearn.linear_model import LogisticRegression\n",
    "import matplotlib.pyplot as plt\n",
    "import pandas as pd\n",
    "import plotly.express as px"
   ]
  },
  {
   "cell_type": "code",
   "execution_count": 48,
   "metadata": {},
   "outputs": [],
   "source": [
    "from sklearn import svm"
   ]
  },
  {
   "cell_type": "code",
   "execution_count": 20,
   "metadata": {},
   "outputs": [],
   "source": [
    "df = pd.read_excel(r'wine.xls')\n",
    "df = df.sample(frac=1)\\\n",
    "df_train = df.head(5500)"
   ]
  },
  {
   "cell_type": "code",
   "execution_count": 27,
   "metadata": {},
   "outputs": [
    {
     "data": {
      "text/plain": [
       "Index(['fixed acidity', 'volatile acidity', 'citric acid', 'residual sugar',\n",
       "       'chlorides', 'free sulfur dioxide', 'total sulfur dioxide', 'density',\n",
       "       'pH', 'sulphates', 'alcohol', 'quality', 'color'],\n",
       "      dtype='object')"
      ]
     },
     "execution_count": 27,
     "metadata": {},
     "output_type": "execute_result"
    }
   ],
   "source": [
    "keys = df.keys()\n",
    "keys"
   ]
  },
  {
   "cell_type": "code",
   "execution_count": 29,
   "metadata": {},
   "outputs": [],
   "source": [
    "df_train = df_train.drop('quality',axis=1)"
   ]
  },
  {
   "cell_type": "code",
   "execution_count": 32,
   "metadata": {},
   "outputs": [
    {
     "data": {
      "text/html": [
       "<div>\n",
       "<style scoped>\n",
       "    .dataframe tbody tr th:only-of-type {\n",
       "        vertical-align: middle;\n",
       "    }\n",
       "\n",
       "    .dataframe tbody tr th {\n",
       "        vertical-align: top;\n",
       "    }\n",
       "\n",
       "    .dataframe thead th {\n",
       "        text-align: right;\n",
       "    }\n",
       "</style>\n",
       "<table border=\"1\" class=\"dataframe\">\n",
       "  <thead>\n",
       "    <tr style=\"text-align: right;\">\n",
       "      <th></th>\n",
       "      <th>fixed acidity</th>\n",
       "      <th>volatile acidity</th>\n",
       "      <th>citric acid</th>\n",
       "      <th>residual sugar</th>\n",
       "      <th>chlorides</th>\n",
       "      <th>free sulfur dioxide</th>\n",
       "      <th>total sulfur dioxide</th>\n",
       "      <th>density</th>\n",
       "      <th>pH</th>\n",
       "      <th>sulphates</th>\n",
       "      <th>alcohol</th>\n",
       "    </tr>\n",
       "  </thead>\n",
       "  <tbody>\n",
       "    <tr>\n",
       "      <th>count</th>\n",
       "      <td>5500.000000</td>\n",
       "      <td>5500.000000</td>\n",
       "      <td>5500.000000</td>\n",
       "      <td>5500.000000</td>\n",
       "      <td>5500.000000</td>\n",
       "      <td>5500.000000</td>\n",
       "      <td>5500.000000</td>\n",
       "      <td>5500.000000</td>\n",
       "      <td>5500.000000</td>\n",
       "      <td>5500.000000</td>\n",
       "      <td>5500.000000</td>\n",
       "    </tr>\n",
       "    <tr>\n",
       "      <th>mean</th>\n",
       "      <td>7.233864</td>\n",
       "      <td>0.339941</td>\n",
       "      <td>0.318422</td>\n",
       "      <td>5.426736</td>\n",
       "      <td>0.056291</td>\n",
       "      <td>30.419000</td>\n",
       "      <td>115.314545</td>\n",
       "      <td>0.994715</td>\n",
       "      <td>3.218135</td>\n",
       "      <td>0.531398</td>\n",
       "      <td>10.485095</td>\n",
       "    </tr>\n",
       "    <tr>\n",
       "      <th>std</th>\n",
       "      <td>1.314673</td>\n",
       "      <td>0.164513</td>\n",
       "      <td>0.146380</td>\n",
       "      <td>4.716625</td>\n",
       "      <td>0.035521</td>\n",
       "      <td>17.898888</td>\n",
       "      <td>56.699382</td>\n",
       "      <td>0.002959</td>\n",
       "      <td>0.161384</td>\n",
       "      <td>0.149493</td>\n",
       "      <td>1.192119</td>\n",
       "    </tr>\n",
       "    <tr>\n",
       "      <th>min</th>\n",
       "      <td>3.800000</td>\n",
       "      <td>0.080000</td>\n",
       "      <td>0.000000</td>\n",
       "      <td>0.600000</td>\n",
       "      <td>0.009000</td>\n",
       "      <td>1.000000</td>\n",
       "      <td>6.000000</td>\n",
       "      <td>0.987110</td>\n",
       "      <td>2.720000</td>\n",
       "      <td>0.220000</td>\n",
       "      <td>8.000000</td>\n",
       "    </tr>\n",
       "    <tr>\n",
       "      <th>25%</th>\n",
       "      <td>6.400000</td>\n",
       "      <td>0.230000</td>\n",
       "      <td>0.240000</td>\n",
       "      <td>1.800000</td>\n",
       "      <td>0.038000</td>\n",
       "      <td>17.000000</td>\n",
       "      <td>76.000000</td>\n",
       "      <td>0.992380</td>\n",
       "      <td>3.110000</td>\n",
       "      <td>0.430000</td>\n",
       "      <td>9.500000</td>\n",
       "    </tr>\n",
       "    <tr>\n",
       "      <th>50%</th>\n",
       "      <td>7.000000</td>\n",
       "      <td>0.295000</td>\n",
       "      <td>0.310000</td>\n",
       "      <td>2.900000</td>\n",
       "      <td>0.047000</td>\n",
       "      <td>29.000000</td>\n",
       "      <td>118.000000</td>\n",
       "      <td>0.994885</td>\n",
       "      <td>3.210000</td>\n",
       "      <td>0.510000</td>\n",
       "      <td>10.300000</td>\n",
       "    </tr>\n",
       "    <tr>\n",
       "      <th>75%</th>\n",
       "      <td>7.700000</td>\n",
       "      <td>0.410000</td>\n",
       "      <td>0.390000</td>\n",
       "      <td>8.100000</td>\n",
       "      <td>0.065000</td>\n",
       "      <td>41.000000</td>\n",
       "      <td>155.000000</td>\n",
       "      <td>0.997000</td>\n",
       "      <td>3.320000</td>\n",
       "      <td>0.600000</td>\n",
       "      <td>11.300000</td>\n",
       "    </tr>\n",
       "    <tr>\n",
       "      <th>max</th>\n",
       "      <td>15.900000</td>\n",
       "      <td>1.580000</td>\n",
       "      <td>1.660000</td>\n",
       "      <td>31.600000</td>\n",
       "      <td>0.611000</td>\n",
       "      <td>289.000000</td>\n",
       "      <td>440.000000</td>\n",
       "      <td>1.010300</td>\n",
       "      <td>4.010000</td>\n",
       "      <td>2.000000</td>\n",
       "      <td>14.900000</td>\n",
       "    </tr>\n",
       "  </tbody>\n",
       "</table>\n",
       "</div>"
      ],
      "text/plain": [
       "       fixed acidity  volatile acidity  citric acid  residual sugar  \\\n",
       "count    5500.000000       5500.000000  5500.000000     5500.000000   \n",
       "mean        7.233864          0.339941     0.318422        5.426736   \n",
       "std         1.314673          0.164513     0.146380        4.716625   \n",
       "min         3.800000          0.080000     0.000000        0.600000   \n",
       "25%         6.400000          0.230000     0.240000        1.800000   \n",
       "50%         7.000000          0.295000     0.310000        2.900000   \n",
       "75%         7.700000          0.410000     0.390000        8.100000   \n",
       "max        15.900000          1.580000     1.660000       31.600000   \n",
       "\n",
       "         chlorides  free sulfur dioxide  total sulfur dioxide      density  \\\n",
       "count  5500.000000          5500.000000           5500.000000  5500.000000   \n",
       "mean      0.056291            30.419000            115.314545     0.994715   \n",
       "std       0.035521            17.898888             56.699382     0.002959   \n",
       "min       0.009000             1.000000              6.000000     0.987110   \n",
       "25%       0.038000            17.000000             76.000000     0.992380   \n",
       "50%       0.047000            29.000000            118.000000     0.994885   \n",
       "75%       0.065000            41.000000            155.000000     0.997000   \n",
       "max       0.611000           289.000000            440.000000     1.010300   \n",
       "\n",
       "                pH    sulphates      alcohol  \n",
       "count  5500.000000  5500.000000  5500.000000  \n",
       "mean      3.218135     0.531398    10.485095  \n",
       "std       0.161384     0.149493     1.192119  \n",
       "min       2.720000     0.220000     8.000000  \n",
       "25%       3.110000     0.430000     9.500000  \n",
       "50%       3.210000     0.510000    10.300000  \n",
       "75%       3.320000     0.600000    11.300000  \n",
       "max       4.010000     2.000000    14.900000  "
      ]
     },
     "execution_count": 32,
     "metadata": {},
     "output_type": "execute_result"
    }
   ],
   "source": [
    "df_train.describe()"
   ]
  },
  {
   "cell_type": "code",
   "execution_count": 47,
   "metadata": {},
   "outputs": [],
   "source": [
    "# outliers: residual sugar, free sulfur dioxide, total sulfar dioxide should be normalised"
   ]
  }
 ],
 "metadata": {
  "kernelspec": {
   "display_name": "Python 3",
   "language": "python",
   "name": "python3"
  },
  "language_info": {
   "codemirror_mode": {
    "name": "ipython",
    "version": 3
   },
   "file_extension": ".py",
   "mimetype": "text/x-python",
   "name": "python",
   "nbconvert_exporter": "python",
   "pygments_lexer": "ipython3",
   "version": "3.7.6"
  }
 },
 "nbformat": 4,
 "nbformat_minor": 4
}
